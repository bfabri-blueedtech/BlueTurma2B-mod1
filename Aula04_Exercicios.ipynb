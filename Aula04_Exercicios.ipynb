{
  "nbformat": 4,
  "nbformat_minor": 0,
  "metadata": {
    "colab": {
      "name": "Aula04_Exercicios.ipynb",
      "provenance": [],
      "collapsed_sections": [
        "HYnPLbl2OfuE",
        "5XVY0cvwP1WX",
        "W8zwueNBKh4B",
        "0NmAiF2DV_ju",
        "xN88sUuMOG46"
      ],
      "include_colab_link": true
    },
    "kernelspec": {
      "name": "python3",
      "display_name": "Python 3"
    },
    "language_info": {
      "name": "python"
    }
  },
  "cells": [
    {
      "cell_type": "markdown",
      "metadata": {
        "id": "view-in-github",
        "colab_type": "text"
      },
      "source": [
        "<a href=\"https://colab.research.google.com/github/bfabri-blueedtech/BlueTurma2B-mod1/blob/main/Aula04_Exercicios.ipynb\" target=\"_parent\"><img src=\"https://colab.research.google.com/assets/colab-badge.svg\" alt=\"Open In Colab\"/></a>"
      ]
    },
    {
      "cell_type": "markdown",
      "metadata": {
        "id": "DptQTkwqN7v9"
      },
      "source": [
        "# Exercícios de Aquecimento\n",
        "\n",
        "## Exercício 01\n",
        "Elabore um programa que imprima na tela a seguinte frase `Olá Mundo! Esse é o meu primeiro programa`"
      ]
    },
    {
      "cell_type": "code",
      "metadata": {
        "id": "fu-Hvxg7OT64",
        "colab": {
          "base_uri": "https://localhost:8080/"
        },
        "outputId": "f5c1acaf-ccf0-4841-e762-410025d657d3"
      },
      "source": [
        "print(\"Olá Mundo! Esse é o meu primeiro programa\")"
      ],
      "execution_count": 28,
      "outputs": [
        {
          "output_type": "stream",
          "text": [
            "Olá Mundo! Esse é o meu primeiro programa\n"
          ],
          "name": "stdout"
        }
      ]
    },
    {
      "cell_type": "markdown",
      "metadata": {
        "id": "HYnPLbl2OfuE"
      },
      "source": [
        "## Exercício 02\n",
        "Elabore um programa que escreve seu nome completo na primeira linha, seu endereço na segunda e o CEP e telefone na terceira.  \n",
        "\n",
        "**Exemplo:**\n",
        "```\n",
        "Nome: Bruno Fabri\n",
        "Endereço: Rua ABC\n",
        "CEP: 002220-010\n",
        "```"
      ]
    },
    {
      "cell_type": "code",
      "metadata": {
        "id": "sUrmuOzbO5Cd",
        "colab": {
          "base_uri": "https://localhost:8080/"
        },
        "outputId": "2b2bd4ee-2e5c-494e-fc5c-47403ccd0a31"
      },
      "source": [
        "# Programa para imprimir nome, endereco, cep e telefone\n",
        "\n",
        "variavel = \"Meu nome é Bruno\"\n",
        "meuNome = \"Bruno\"\n",
        "meu_nome = \"Bruno\"\n",
        "\n",
        "\"\"\"\n",
        "Programa para imprimir nome, endereco, cep e telefone\n",
        "Um em cada linha\n",
        "\"\"\"\n",
        "\n",
        "print(\"Nome: Bruno Fabri\\n\")\n",
        "print(\"Endereço: Rua ABC, 163\")\n",
        "print(\"\")\n",
        "print(\"CEP: 002220-010\")\n",
        "print(\"Telefone: (21) 9999-9999\")"
      ],
      "execution_count": 29,
      "outputs": [
        {
          "output_type": "stream",
          "text": [
            "Nome: Bruno Fabri\n",
            "\n",
            "Endereço: Rua ABC, 163\n",
            "\n",
            "CEP: 002220-010\n",
            "Telefone: (21) 9999-9999\n"
          ],
          "name": "stdout"
        }
      ]
    },
    {
      "cell_type": "markdown",
      "metadata": {
        "id": "5XVY0cvwP1WX"
      },
      "source": [
        "## Exercício 03\n",
        "Elabore um programa que recebe o nome de uma pessoa do terminal e mostra a seguinte mensagem: `Olá {nome}! Seja bem vindo ao fantástico mundo da programação`"
      ]
    },
    {
      "cell_type": "code",
      "metadata": {
        "id": "VDfwe6OSQM0M",
        "colab": {
          "base_uri": "https://localhost:8080/"
        },
        "outputId": "b348c05f-e53e-49c4-eeaa-a6bf17646906"
      },
      "source": [
        "nome = input(\"Digite seu nome: \")\n",
        "numero = 10\n",
        "\n",
        "print(\"Olá\", nome, \"! Seja bem vindo ao fantástico mundo da programação\")\n",
        "print(\"Olá \" + nome + \"! Seja bem vindo ao fantástico mundo da programação\") \n",
        "print(\"Olá {}! Seja bem vindo ao fantástico mundo da programação\".replace(\"{}\", nome))\n",
        "print(\"Olá {}! Seja bem vindo ao fantástico mundo da programação. E numero {}\".format(nome, 10))\n",
        "print(\"Olá {1}! Seja bem vindo ao fantástico mundo da programação. E numero {0}\".format(nome, 10))\n",
        "print(f\"Olá {nome}! Seja bem vindo ao fantástico mundo da programação\")"
      ],
      "execution_count": null,
      "outputs": [
        {
          "output_type": "stream",
          "text": [
            "Digite seu nome: Bruno\n"
          ],
          "name": "stdout"
        }
      ]
    },
    {
      "cell_type": "markdown",
      "metadata": {
        "id": "1Nb29agVQc3k"
      },
      "source": [
        "## Exercício 04\n",
        "Elabore um programa que recebe dois valores inteiros e mostra a soma desses valores\n",
        "\n",
        "**Exemplo:**\n",
        "\n",
        "```\n",
        "Primeiro Valor = 2\n",
        "Segundo Valor = 3\n",
        "Soma = 5\n",
        "```"
      ]
    },
    {
      "cell_type": "code",
      "metadata": {
        "id": "a6_BwVwRROmH",
        "colab": {
          "base_uri": "https://localhost:8080/"
        },
        "outputId": "1981f643-5427-4348-aca6-cb7fb371f33c"
      },
      "source": [
        "# Exemplo inteiro\n",
        "numero1_string = input(\"Digite o primeiro valor: \")\n",
        "numero1 = float(numero1_string)\n",
        "\n",
        "numero2 = float(input(\"Digite o segundo valor: \"))\n",
        "print(\"Soma =\", numero1 + numero2)\n",
        "\n",
        "soma = numero1 + numero2\n",
        "print(\"Soma =\", soma)"
      ],
      "execution_count": 8,
      "outputs": [
        {
          "output_type": "stream",
          "text": [
            "Digite o primeiro valor: 10.2\n",
            "Digite o segundo valor: 11.20\n",
            "Soma = 21.4\n",
            "Soma = 21.4\n"
          ],
          "name": "stdout"
        }
      ]
    },
    {
      "cell_type": "markdown",
      "metadata": {
        "id": "4HQxR3FTTbSr"
      },
      "source": [
        "## Exercício 05\n",
        "Elabore um programa que recebe dois valores inteiros e mostra se o primeiro valor é maior ou igual ao segundo valor\n",
        "\n",
        "**Exemplo:**\n",
        "```\n",
        "Primeiro Valor = 3\n",
        "Segundo Valor = 2\n",
        "Resultado = True\n",
        "```"
      ]
    },
    {
      "cell_type": "code",
      "metadata": {
        "id": "OXISQASdTeSW",
        "colab": {
          "base_uri": "https://localhost:8080/"
        },
        "outputId": "7d24323b-be84-45af-c1ae-4ac66525347a"
      },
      "source": [
        "numero1 = float(input(\"Digite o primeiro valor: \"))\n",
        "numero2 = float(input(\"Digite o segundo valor: \"))\n",
        "print(numero1 >= numero2)\n",
        "print(numero1 < numero2)\n",
        "print(numero1 != numero2)\n",
        "print(numero1 == numero2)"
      ],
      "execution_count": 11,
      "outputs": [
        {
          "output_type": "stream",
          "text": [
            "Digite o primeiro valor: 20\n",
            "Digite o segundo valor: 10\n",
            "True\n"
          ],
          "name": "stdout"
        }
      ]
    },
    {
      "cell_type": "markdown",
      "metadata": {
        "id": "Gn8rHPn3UCnc"
      },
      "source": [
        "## Exercício 06\n",
        "Elabore um programa que recebe o seu nome, endereço e hobby e mostra cada uma das informações da seguinte forma:\n",
        "- Nome -> Letra maiúscula\n",
        "- Endereço -> Letra minúscula\n",
        "- Hobby -> Primeira letra maiúscula\n",
        "\n",
        "**Exemplo Entrada:**\n",
        "```\n",
        "Nome: bruno fabri\n",
        "Endereço: Rua ABC\n",
        "Hobby: jogar cs\n",
        "```\n",
        "\n",
        "**Exemplo Saída:**\n",
        "```\n",
        "Nome: BRUNO FABRI\n",
        "Endereço: rua abc\n",
        "Hobby: Jogar cs\n",
        "```"
      ]
    },
    {
      "cell_type": "code",
      "metadata": {
        "id": "ZIj-PGVZVVP6",
        "colab": {
          "base_uri": "https://localhost:8080/"
        },
        "outputId": "d46dcb9e-24b1-4bab-bd82-493ddf60eb55"
      },
      "source": [
        "nome = input(\"Digite seu nome: \")\n",
        "endereco = input(\"Digite seu endereco: \")\n",
        "hobby = input(\"Digite seu hobby: \")\n",
        "\n",
        "print(nome.upper())\n",
        "print(nome.lower())\n",
        "print(nome.title())\n",
        "print(nome.capitalize())\n",
        "\n",
        "# Forma 2\n",
        "nome = input('Digite o seu nome:').upper()\n",
        "endereço = input('Digite seu endereço:').lower()\n",
        "hobby = input('Digite seu hobby:').capitalize()\n",
        "print('''\n",
        "Nome:{}\n",
        "Endereço:{}\n",
        "Hobby:{}\n",
        "'''.format(nome,endereço,hobby))\n",
        "\n",
        "# Forma 3\n",
        "nome = input('Digite seu nome: ')\n",
        "endereco = input('Digite seu endereço: ')\n",
        "hobby = input('Digite seu hobby: ')\n",
        "\n",
        "print(f\"{nome.upper()}\\n{endereco.lower()}\\n{hobby.capitalize()}\")"
      ],
      "execution_count": 12,
      "outputs": [
        {
          "output_type": "stream",
          "text": [
            "Digite seu nome: bruno fabri\n",
            "Digite seu endereco: Rua ABC\n",
            "Digite seu hobby: jogar cs\n",
            "BRUNO FABRI\n",
            "bruno fabri\n",
            "Bruno Fabri\n",
            "Bruno fabri\n"
          ],
          "name": "stdout"
        }
      ]
    },
    {
      "cell_type": "markdown",
      "metadata": {
        "id": "wlvmEAPQNrcL"
      },
      "source": [
        "# Mini Projetos"
      ]
    },
    {
      "cell_type": "markdown",
      "metadata": {
        "id": "W8zwueNBKh4B"
      },
      "source": [
        "## Mini Projeto 01 - Conversor de Moeda\n",
        "Vamos construir um programa que irá converter moedas do real para o dólar e do dólar para o real. Vamos considerar que `$ 1,00 = R$ 5,75`\n",
        "\n",
        "### Parte 1\n",
        "Faça o conversor de moeda receber o valor em real e mostrar o valor convertido para dólar no formato `$ XXXX.XX`\n",
        "\n",
        "**Exemplo:**\n",
        "\n",
        "```\n",
        "Valor em R$ = 1000\n",
        "Valor em $ = $ 173.91\n",
        "```\n",
        "\n",
        "### Parte 2\n",
        "Altere o conversor de moedas para receber o valor em dólar, converter para real e mostrar o resultado no formato `R$ XXXX.XX`\n",
        "\n",
        "**Exemplo:**\n",
        "```\n",
        "Valor em $ = 1000\n",
        "Valor em R$ = R$ 5750.00\n",
        "```"
      ]
    },
    {
      "cell_type": "code",
      "metadata": {
        "id": "mRQ9fpIgMp5Z"
      },
      "source": [
        ""
      ],
      "execution_count": null,
      "outputs": []
    },
    {
      "cell_type": "markdown",
      "metadata": {
        "id": "0NmAiF2DV_ju"
      },
      "source": [
        "## Mini Projeto 02 - Calculadora de aumento de aluguel\n",
        "Vamos construir um programa que irá calcular o aumento anual do seu aluguel em duas partes:\n",
        "\n",
        "### Parte 1\n",
        "A sua calculadora vai receber o `valor do aluguel` e calcular o aumento baseado no `IGPM de 31%`. A calculadora deve apresentar o aluguel reajustado no formato `R$ XXXX.XX`\n",
        "\n",
        "**Exemplo:**\n",
        "```\n",
        "Valor do aluguel = 1000\n",
        "Valor do aluguel reajustado = R$ 1310,00\n",
        "```\n",
        "\n",
        "### Parte 2\n",
        "Agora, altere sua calculadora para receber além do `valor do aluguel`, o percentual do reajuste no formato `XX%`.  \n",
        "\n",
        "**Dica:** Descubra uma forma de transformar o percentual recebido em um número para efetuar o cálculo.\n",
        "\n",
        "**Exemplo:**\n",
        "```\n",
        "Valor do aluguel = 1000\n",
        "Percentual do reajuste = 31%\n",
        "Valor do aluguel reajustado = R% 1310,00\n",
        "```"
      ]
    },
    {
      "cell_type": "code",
      "metadata": {
        "id": "0eHzSCyaGkYJ",
        "colab": {
          "base_uri": "https://localhost:8080/"
        },
        "outputId": "d2f75a50-24e8-4074-ee60-bdae4ae2887e"
      },
      "source": [
        "from random import randint\n",
        "\n",
        "vida_monstro = randint(10, 50)\n",
        "print(vida_monstro)"
      ],
      "execution_count": 26,
      "outputs": [
        {
          "output_type": "stream",
          "text": [
            "16\n"
          ],
          "name": "stdout"
        }
      ]
    },
    {
      "cell_type": "markdown",
      "metadata": {
        "id": "xN88sUuMOG46"
      },
      "source": [
        "## Mini Projeto 03 - Calculadora de dano\n",
        "Vamos implementar a calculadora de dano de RPG!!\n",
        "\n",
        "### Parte 1\n",
        "O programa vai receber a `vida e um monstro (entre 10 e 50)` e o `valor do ataque do jogador por turno (entre 5 e 10)`\n",
        "\n",
        "Baseado nos valores, exiba a quantidade de turnos que o jogador irá demorar para conseguir derrotar o monstro.\n",
        "\n",
        "**Exemplo:**\n",
        "```\n",
        "Vida de um monstro (entre 10 e 50): 26\n",
        "Valor do ataque do jogador por turno (entre 5 e 10): 5\n",
        "Resultado: O jogador irá precisar de 6 turnos para derrotar o monstro.\n",
        "```\n",
        "\n",
        "### Parte 2\n",
        "Altere o programa para ao invés de receber a vida do monstro, gerar aleatoriamente um valor entre 10 e 50."
      ]
    },
    {
      "cell_type": "code",
      "metadata": {
        "id": "Mrpz9UomQH2P"
      },
      "source": [
        ""
      ],
      "execution_count": null,
      "outputs": []
    }
  ]
}